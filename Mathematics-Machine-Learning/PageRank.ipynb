#In this assessment, you will be asked to produce a function that can calculate the PageRank for an arbitrarily large probability matrix. This, the final assignment of the course, will give less guidance than previous assessments. You will be expected to utilise code from earlier in the worksheet and re-purpose it to your needs.
# PACKAGE
# Here are the imports again, just in case you need them.
# There is no need to edit or submit this cell.
import numpy as np
import numpy.linalg as la
from readonly.PageRankFunctions import *
np.set_printoptions(suppress=True)

# GRADED FUNCTION
# Complete this function to provide the PageRank for an arbitrarily sized internet.
# I.e. the principal eigenvector of the damped system, using the power iteration method.
# (Normalisation doesn't matter here)
# The functions inputs are the linkMatrix, and d the damping parameter - as defined in this worksheet.
# (The damping parameter, d, will be set by the function - no need to set this yourself.)
def pageRank(linkMatrix, d) :
    n = linkMatrix.shape[0]  # Size of the internet

    # Initialize the PageRank vector with equal probability for each website
    #d * linkMatrix is contribution of link structure to transition matrix M
    #(1-d/n*np.ones.. ) represents the damping factor which models probability of user randomly jumping to another website
    M = d * linkMatrix + (1-d)/n * np.ones([n, n])

    #initialize the r with equal probabilities for all websites-100 scaling factor
    r = 100*np.ones(n) / n
     #performing 1st iteration of power iteration lastR stores pagerank vector, r updated by multiplying M with initial vector
    lastR = r

    r = M @ r
    #i keeps track of iterations
    i = 0

    while la.norm(lastR - r) > 0.01 :

        lastR = r

        r = M @ r

        i += 1

    print(str(i) + " iterations to convergence.")

    r

    return r
